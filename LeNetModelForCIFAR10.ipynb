{
  "nbformat": 4,
  "nbformat_minor": 0,
  "metadata": {
    "colab": {
      "name": "LeNetModelForCIFAR10.ipynb",
      "provenance": [],
      "authorship_tag": "ABX9TyMClcWmcfSs0fZM/eTmTYKc",
      "include_colab_link": true
    },
    "kernelspec": {
      "name": "python3",
      "display_name": "Python 3"
    },
    "accelerator": "GPU"
  },
  "cells": [
    {
      "cell_type": "markdown",
      "metadata": {
        "id": "view-in-github",
        "colab_type": "text"
      },
      "source": [
        "<a href=\"https://colab.research.google.com/github/manu49/BayesianNeuralNets/blob/master/LeNetModelForCIFAR10.ipynb\" target=\"_parent\"><img src=\"https://colab.research.google.com/assets/colab-badge.svg\" alt=\"Open In Colab\"/></a>"
      ]
    },
    {
      "cell_type": "code",
      "metadata": {
        "id": "Ho6vXD2fE5di",
        "colab_type": "code",
        "colab": {}
      },
      "source": [
        "import torch  \n",
        "import matplotlib.pyplot as plt  \n",
        "import numpy as np  \n",
        "import torch.nn.functional as func  \n",
        "import PIL.ImageOps  \n",
        "from torch import nn  \n",
        "from torchvision import datasets,transforms   \n",
        "import requests  \n",
        "from PIL import Image  "
      ],
      "execution_count": null,
      "outputs": []
    },
    {
      "cell_type": "code",
      "metadata": {
        "id": "6e9ehG7oFLmT",
        "colab_type": "code",
        "colab": {}
      },
      "source": [
        "device=torch.device(\"cuda:0\" if torch.cuda.is_available() else \"cpu\")  "
      ],
      "execution_count": null,
      "outputs": []
    },
    {
      "cell_type": "code",
      "metadata": {
        "id": "T-0K3b12FjEw",
        "colab_type": "code",
        "colab": {}
      },
      "source": [
        "transform1=transforms.Compose([transforms.Resize((32,32)),transforms.ToTensor(),transforms.Normalize((0.5,),(0.5,))])  \n"
      ],
      "execution_count": null,
      "outputs": []
    },
    {
      "cell_type": "code",
      "metadata": {
        "id": "woMtzDIdFo9y",
        "colab_type": "code",
        "colab": {
          "base_uri": "https://localhost:8080/",
          "height": 51
        },
        "outputId": "18775089-3e9d-4bb1-f5a4-da90fdc77fde"
      },
      "source": [
        "training_dataset=datasets.CIFAR10(root='./data',train=True,download=True,transform=transform1)  \n",
        "validation_dataset=datasets.CIFAR10(root='./data',train=False,download=True,transform=transform1)  "
      ],
      "execution_count": null,
      "outputs": [
        {
          "output_type": "stream",
          "text": [
            "Files already downloaded and verified\n",
            "Files already downloaded and verified\n"
          ],
          "name": "stdout"
        }
      ]
    },
    {
      "cell_type": "code",
      "metadata": {
        "id": "WANhRvHWFu6z",
        "colab_type": "code",
        "colab": {}
      },
      "source": [
        "training_loader=torch.utils.data.DataLoader(dataset=training_dataset,batch_size=100,shuffle=True)  \n",
        "validation_loader=torch.utils.data.DataLoader(dataset=validation_dataset,batch_size=100,shuffle=False)"
      ],
      "execution_count": null,
      "outputs": []
    },
    {
      "cell_type": "code",
      "metadata": {
        "id": "1xFRP1SPG-C7",
        "colab_type": "code",
        "colab": {}
      },
      "source": [
        "def im_convert(tensor):  \n",
        "    image=tensor.cpu().clone().detach().numpy()  \n",
        "    image=image.transpose(1,2,0)  \n",
        "    print(image.shape)  \n",
        "    image=image*(np.array((0.5,0.5,0.5))+np.array((0.5,0.5,0.5)))  \n",
        "    image=image.clip(0,1)  \n",
        "    return image"
      ],
      "execution_count": null,
      "outputs": []
    },
    {
      "cell_type": "code",
      "metadata": {
        "id": "Sh8HClkjHDVD",
        "colab_type": "code",
        "colab": {
          "base_uri": "https://localhost:8080/",
          "height": 34
        },
        "outputId": "a1152761-89ac-4c8d-e1ce-6ac383ef5616"
      },
      "source": [
        "classes=('plane','car','bird','cat','dear','dog','frog','horse','ship','truck')  \n",
        "dataiter=iter(training_loader)  \n",
        "images,labels=dataiter.next()  \n",
        "fig=plt.figure(figsize=(25,4))  "
      ],
      "execution_count": null,
      "outputs": [
        {
          "output_type": "display_data",
          "data": {
            "text/plain": [
              "<Figure size 1800x288 with 0 Axes>"
            ]
          },
          "metadata": {
            "tags": []
          }
        }
      ]
    },
    {
      "cell_type": "code",
      "metadata": {
        "id": "q89AP4B8HH1M",
        "colab_type": "code",
        "colab": {
          "base_uri": "https://localhost:8080/",
          "height": 606
        },
        "outputId": "8f37bd0a-9e1c-4523-97c8-4a4c91a5d3f9"
      },
      "source": [
        "for idx in np.arange(20):  \n",
        "    ax=fig.add_subplot(2,10,idx+1)  \n",
        "    plt.imshow(im_convert(images[idx]))  \n",
        "    ax.set_title(classes[labels[idx].item()])  "
      ],
      "execution_count": null,
      "outputs": [
        {
          "output_type": "stream",
          "text": [
            "(32, 32, 3)\n",
            "(32, 32, 3)\n",
            "(32, 32, 3)\n",
            "(32, 32, 3)\n",
            "(32, 32, 3)\n",
            "(32, 32, 3)\n",
            "(32, 32, 3)\n",
            "(32, 32, 3)\n",
            "(32, 32, 3)\n",
            "(32, 32, 3)\n",
            "(32, 32, 3)\n",
            "(32, 32, 3)\n",
            "(32, 32, 3)\n",
            "(32, 32, 3)\n",
            "(32, 32, 3)\n",
            "(32, 32, 3)\n",
            "(32, 32, 3)\n",
            "(32, 32, 3)\n",
            "(32, 32, 3)\n",
            "(32, 32, 3)\n"
          ],
          "name": "stdout"
        },
        {
          "output_type": "display_data",
          "data": {
            "image/png": "[encoded data removed]",
            "text/plain": [
              "<Figure size 432x288 with 1 Axes>"
            ]
          },
          "metadata": {
            "tags": [],
            "needs_background": "light"
          }
        }
      ]
    },
    {
      "cell_type": "code",
      "metadata": {
        "id": "bhQdai5VHOgx",
        "colab_type": "code",
        "colab": {}
      },
      "source": [
        "class LeNet(nn.Module):  \n",
        "        def __init__(self):  \n",
        "            super().__init__()  \n",
        "            self.conv1=nn.Conv2d(3,20,5,1)  \n",
        "            self.conv2=nn.Conv2d(20,50,5,1)  \n",
        "            self.fully1=nn.Linear(5*5*50,500)  \n",
        "            self.dropout1=nn.Dropout(0.5)   \n",
        "            self.fully2=nn.Linear(500,10)  \n",
        "        def forward(self,x):  \n",
        "            x=func.relu(self.conv1(x))  \n",
        "            x=func.max_pool2d(x,2,2)  \n",
        "            x=func.relu(self.conv2(x))  \n",
        "            x=func.max_pool2d(x,2,2)  \n",
        "            x=x.view(-1,5*5*50) #Reshaping the output into desired shape  \n",
        "            x=func.relu(self.fully1(x)) #Applying relu activation function to our first fully connected layer  \n",
        "            x=self.dropout1(x)  \n",
        "            x=self.fully2(x)    #We will not apply activation function here because we are dealing with multiclass dataset  \n",
        "            return x"
      ],
      "execution_count": null,
      "outputs": []
    },
    {
      "cell_type": "code",
      "metadata": {
        "id": "cbnl9O_6jBfR",
        "colab_type": "code",
        "colab": {}
      },
      "source": [
        "model=LeNet().to(device)  \n",
        "criteron=nn.CrossEntropyLoss()  \n",
        "optimizer=torch.optim.Adam(model.parameters(),lr=0.00001)   \n",
        "epochs=12  \n",
        "loss_history=[]  \n",
        "correct_history=[]  \n",
        "val_loss_history=[]  \n",
        "val_correct_history=[]"
      ],
      "execution_count": null,
      "outputs": []
    },
    {
      "cell_type": "code",
      "metadata": {
        "id": "ccxC370vjZ8Y",
        "colab_type": "code",
        "colab": {
          "base_uri": "https://localhost:8080/",
          "height": 425
        },
        "outputId": "1be368c1-1776-4783-aa0e-8b9028f78707"
      },
      "source": [
        "for e in range(epochs):  \n",
        "    loss=0.0  \n",
        "    correct=0.0  \n",
        "    val_loss=0.0  \n",
        "    val_correct=0.0  \n",
        "    for input,labels in training_loader:  \n",
        "        input=input.to(device)  \n",
        "        labels=labels.to(device)  \n",
        "        outputs=model(input)  \n",
        "        loss1=criteron(outputs,labels)  \n",
        "        optimizer.zero_grad()  \n",
        "        loss1.backward()  \n",
        "        optimizer.step()  \n",
        "        _,preds=torch.max(outputs,1)  \n",
        "        loss+=loss1.item()  \n",
        "        correct+=torch.sum(preds==labels.data)  \n",
        "    else:  \n",
        "        with torch.no_grad():  \n",
        "            for val_input,val_labels in validation_loader:  \n",
        "                val_input=val_input.to(device)  \n",
        "                val_labels=val_labels.to(device)  \n",
        "                val_outputs=model(val_input)  \n",
        "                val_loss1=criteron(val_outputs,val_labels)   \n",
        "                _,val_preds=torch.max(val_outputs,1)  \n",
        "                val_loss+=val_loss1.item()  \n",
        "                val_correct+=torch.sum(val_preds==val_labels.data)  \n",
        "        epoch_loss=loss/len(training_loader)  \n",
        "        epoch_acc=correct.float()/len(training_loader)  \n",
        "        loss_history.append(epoch_loss)  \n",
        "        correct_history.append(epoch_acc)  \n",
        "        val_epoch_loss=val_loss/len(validation_loader)  \n",
        "        val_epoch_acc=val_correct.float()/len(validation_loader)  \n",
        "        val_loss_history.append(val_epoch_loss)  \n",
        "        val_correct_history.append(val_epoch_acc)  \n",
        "        print('training_loss:{:.4f},{:.4f}'.format(epoch_loss,epoch_acc.item()))  \n",
        "        print('validation_loss:{:.4f},{:.4f}'.format(val_epoch_loss,val_epoch_acc.item()))"
      ],
      "execution_count": null,
      "outputs": [
        {
          "output_type": "stream",
          "text": [
            "training_loss:2.2130,20.3120\n",
            "validation_loss:2.0753,27.0100\n",
            "training_loss:1.9910,29.0000\n",
            "validation_loss:1.9223,31.7900\n",
            "training_loss:1.8924,32.3460\n",
            "validation_loss:1.8486,34.0500\n",
            "training_loss:1.8292,34.4560\n",
            "validation_loss:1.7952,35.7900\n",
            "training_loss:1.7707,36.7220\n",
            "validation_loss:1.7422,37.7600\n",
            "training_loss:1.7237,38.2140\n",
            "validation_loss:1.7018,38.7300\n",
            "training_loss:1.6859,39.3340\n",
            "validation_loss:1.6671,40.3800\n",
            "training_loss:1.6529,40.8760\n",
            "validation_loss:1.6402,41.4200\n",
            "training_loss:1.6279,41.3400\n",
            "validation_loss:1.6184,41.3900\n",
            "training_loss:1.6053,42.2440\n",
            "validation_loss:1.5988,42.9700\n",
            "training_loss:1.5856,42.9480\n",
            "validation_loss:1.5796,43.3000\n",
            "training_loss:1.5723,43.3460\n",
            "validation_loss:1.5607,43.5500\n"
          ],
          "name": "stdout"
        }
      ]
    },
    {
      "cell_type": "code",
      "metadata": {
        "id": "XAOfZK1FjoUh",
        "colab_type": "code",
        "colab": {
          "base_uri": "https://localhost:8080/",
          "height": 265
        },
        "outputId": "75865433-6b90-4e45-a56b-417a921db874"
      },
      "source": [
        "plt.plot(loss_history,label='Training Loss')    \n",
        "plt.plot(val_loss_history,label='Validation Loss')    \n",
        "plt.legend()    \n",
        "plt.show() "
      ],
      "execution_count": null,
      "outputs": [
        {
          "output_type": "display_data",
          "data": {
            "image/png": "[encoded data removed]",
            "text/plain": [
              "<Figure size 432x288 with 1 Axes>"
            ]
          },
          "metadata": {
            "tags": [],
            "needs_background": "light"
          }
        }
      ]
    },
    {
      "cell_type": "code",
      "metadata": {
        "id": "ds6yqSAekWcc",
        "colab_type": "code",
        "colab": {
          "base_uri": "https://localhost:8080/",
          "height": 265
        },
        "outputId": "0fcfc23d-34f0-40be-ce06-64892fc5eaff"
      },
      "source": [
        "plt.plot(correct_history,label='Training accuracy')    \n",
        "plt.plot(val_correct_history,label='Validation accuracy')    \n",
        "plt.legend()    \n",
        "plt.show()"
      ],
      "execution_count": null,
      "outputs": [
        {
          "output_type": "display_data",
          "data": {
            "image/png": "[encoded data removed]",
            "text/plain": [
              "<Figure size 432x288 with 1 Axes>"
            ]
          },
          "metadata": {
            "tags": [],
            "needs_background": "light"
          }
        }
      ]
    },
    {
      "cell_type": "code",
      "metadata": {
        "id": "ZwFYehIhkbRp",
        "colab_type": "code",
        "colab": {}
      },
      "source": [
        "url='https://3c1703fe8d.site.internapcdn.net/newman/gfx/news/hires/2018/2-dog.jpg'  \n",
        "response=requests.get(url,stream=True)"
      ],
      "execution_count": null,
      "outputs": []
    },
    {
      "cell_type": "code",
      "metadata": {
        "id": "GuCxmhejvnW0",
        "colab_type": "code",
        "colab": {
          "base_uri": "https://localhost:8080/",
          "height": 300
        },
        "outputId": "3b81aa6c-d935-4564-c9f9-c2d5e2d690a7"
      },
      "source": [
        "img=Image.open(response.raw)  \n",
        "img=transform1(img)   \n",
        "plt.imshow(im_convert(img)) "
      ],
      "execution_count": null,
      "outputs": [
        {
          "output_type": "stream",
          "text": [
            "(32, 32, 3)\n"
          ],
          "name": "stdout"
        },
        {
          "output_type": "execute_result",
          "data": {
            "text/plain": [
              "<matplotlib.image.AxesImage at 0x7fe4be53a5c0>"
            ]
          },
          "metadata": {
            "tags": []
          },
          "execution_count": 69
        },
        {
          "output_type": "display_data",
          "data": {
            "image/png": "[encoded data removed]",
            "text/plain": [
              "<Figure size 432x288 with 1 Axes>"
            ]
          },
          "metadata": {
            "tags": [],
            "needs_background": "light"
          }
        }
      ]
    },
    {
      "cell_type": "code",
      "metadata": {
        "id": "DKcn7jwflj40",
        "colab_type": "code",
        "colab": {
          "base_uri": "https://localhost:8080/",
          "height": 51
        },
        "outputId": "14fd0921-2fbf-4981-c51b-df5c5d0b9886"
      },
      "source": [
        "img=Image.open(response.raw)  \n",
        "img=transform1(img)     \n",
        "image1=img.to(device).unsqueeze(0)  \n",
        "output=model(image1)  \n",
        "_,pred=torch.max(output,1)  \n",
        "print(classes[pred.item()])  \n",
        "dataiter=iter(validation_loader)    \n",
        "images,labels=dataiter.next()    \n",
        "images_=images.to(device)    \n",
        "labels=labels.to(device)    \n",
        "output=model(images_)    \n",
        "_,preds=torch.max(output,1)    \n",
        "fig=plt.figure(figsize=(25,4))"
      ],
      "execution_count": null,
      "outputs": [
        {
          "output_type": "stream",
          "text": [
            "dog\n"
          ],
          "name": "stdout"
        },
        {
          "output_type": "display_data",
          "data": {
            "text/plain": [
              "<Figure size 1800x288 with 0 Axes>"
            ]
          },
          "metadata": {
            "tags": []
          }
        }
      ]
    },
    {
      "cell_type": "code",
      "metadata": {
        "id": "CsjA2hTaoTDh",
        "colab_type": "code",
        "colab": {
          "base_uri": "https://localhost:8080/",
          "height": 660
        },
        "outputId": "bec18765-6f22-41bc-d6d3-25c42337863b"
      },
      "source": [
        "for idx in np.arange(20):    \n",
        "    ax=fig.add_subplot(2,10,idx+1,xticks=[],yticks=[])    \n",
        "    plt.imshow(im_convert(images[idx]))    \n",
        "    ax.set_title(\"{}({})\".format(str(classes[preds[idx].item()]),str(classes[labels[idx].item()]),color=(\"green\" if preds[idx]==labels[idx] else \"red\")))\n",
        "plt.show()"
      ],
      "execution_count": null,
      "outputs": [
        {
          "output_type": "stream",
          "text": [
            "/usr/local/lib/python3.6/dist-packages/ipykernel_launcher.py:2: MatplotlibDeprecationWarning: Adding an axes using the same arguments as a previous axes currently reuses the earlier instance.  In a future version, a new instance will always be created and returned.  Meanwhile, this warning can be suppressed, and the future behavior ensured, by passing a unique label to each axes instance.\n",
            "  \n"
          ],
          "name": "stderr"
        },
        {
          "output_type": "stream",
          "text": [
            "(32, 32, 3)\n",
            "(32, 32, 3)\n",
            "(32, 32, 3)\n",
            "(32, 32, 3)\n",
            "(32, 32, 3)\n",
            "(32, 32, 3)\n",
            "(32, 32, 3)\n",
            "(32, 32, 3)\n",
            "(32, 32, 3)\n",
            "(32, 32, 3)\n",
            "(32, 32, 3)\n",
            "(32, 32, 3)\n",
            "(32, 32, 3)\n",
            "(32, 32, 3)\n",
            "(32, 32, 3)\n",
            "(32, 32, 3)\n",
            "(32, 32, 3)\n",
            "(32, 32, 3)\n",
            "(32, 32, 3)\n",
            "(32, 32, 3)\n"
          ],
          "name": "stdout"
        },
        {
          "output_type": "display_data",
          "data": {
            "image/png": "[encoded data removed]",
            "text/plain": [
              "<Figure size 432x288 with 1 Axes>"
            ]
          },
          "metadata": {
            "tags": [],
            "needs_background": "light"
          }
        }
      ]
    },
    {
      "cell_type": "code",
      "metadata": {
        "id": "G9KpwP_tojUN",
        "colab_type": "code",
        "colab": {}
      },
      "source": [
        "url='https://www.welcomewildlife.com/wp-content/uploads/2015/01/Frog-compare.jpg'  \n",
        "response=requests.get(url,stream=True)"
      ],
      "execution_count": null,
      "outputs": []
    },
    {
      "cell_type": "code",
      "metadata": {
        "id": "uLJ6gtNXrZ8b",
        "colab_type": "code",
        "colab": {
          "base_uri": "https://localhost:8080/",
          "height": 51
        },
        "outputId": "2913cc0d-65fd-4647-97ba-4ddd05a658c0"
      },
      "source": [
        "img=Image.open(response.raw)  \n",
        "img=transform1(img)     \n",
        "image1=img.to(device).unsqueeze(0)  \n",
        "output=model(image1)  \n",
        "_,pred=torch.max(output,1)  \n",
        "print(classes[pred.item()])  \n",
        "dataiter=iter(validation_loader)    \n",
        "images,labels=dataiter.next()    \n",
        "images_=images.to(device)    \n",
        "labels=labels.to(device)    \n",
        "output=model(images_)    \n",
        "_,preds=torch.max(output,1)    \n",
        "fig=plt.figure(figsize=(25,4))"
      ],
      "execution_count": null,
      "outputs": [
        {
          "output_type": "stream",
          "text": [
            "frog\n"
          ],
          "name": "stdout"
        },
        {
          "output_type": "display_data",
          "data": {
            "text/plain": [
              "<Figure size 1800x288 with 0 Axes>"
            ]
          },
          "metadata": {
            "tags": []
          }
        }
      ]
    },
    {
      "cell_type": "code",
      "metadata": {
        "id": "NI0DdyIXrfPr",
        "colab_type": "code",
        "colab": {
          "base_uri": "https://localhost:8080/",
          "height": 606
        },
        "outputId": "20d01235-5f0f-4a6b-9606-c4a154fa74b8"
      },
      "source": [
        "for idx in np.arange(20):    \n",
        "    ax=fig.add_subplot(2,10,idx+1,xticks=[],yticks=[])    \n",
        "    plt.imshow(im_convert(images[idx]))    \n",
        "    ax.set_title(\"{}({})\".format(str(classes[preds[idx].item()]),str(classes[labels[idx].item()]),color=(\"green\" if preds[idx]==labels[idx] else \"red\")))\n",
        "plt.show()"
      ],
      "execution_count": null,
      "outputs": [
        {
          "output_type": "stream",
          "text": [
            "(32, 32, 3)\n",
            "(32, 32, 3)\n",
            "(32, 32, 3)\n",
            "(32, 32, 3)\n",
            "(32, 32, 3)\n",
            "(32, 32, 3)\n",
            "(32, 32, 3)\n",
            "(32, 32, 3)\n",
            "(32, 32, 3)\n",
            "(32, 32, 3)\n",
            "(32, 32, 3)\n",
            "(32, 32, 3)\n",
            "(32, 32, 3)\n",
            "(32, 32, 3)\n",
            "(32, 32, 3)\n",
            "(32, 32, 3)\n",
            "(32, 32, 3)\n",
            "(32, 32, 3)\n",
            "(32, 32, 3)\n",
            "(32, 32, 3)\n"
          ],
          "name": "stdout"
        },
        {
          "output_type": "display_data",
          "data": {
            "image/png": "[encoded data removed]",
            "text/plain": [
              "<Figure size 432x288 with 1 Axes>"
            ]
          },
          "metadata": {
            "tags": [],
            "needs_background": "light"
          }
        }
      ]
    },
    {
      "cell_type": "code",
      "metadata": {
        "id": "nzOT18EGrne8",
        "colab_type": "code",
        "colab": {}
      },
      "source": [
        ""
      ],
      "execution_count": null,
      "outputs": []
    }
  ]
}